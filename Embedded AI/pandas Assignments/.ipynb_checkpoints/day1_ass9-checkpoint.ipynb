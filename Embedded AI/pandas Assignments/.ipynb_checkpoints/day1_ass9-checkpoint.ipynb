{
 "cells": [
  {
   "cell_type": "markdown",
   "id": "12026a23-f812-4d2f-9aa8-24639825c62c",
   "metadata": {},
   "source": [
    "# Day1_ass9"
   ]
  },
  {
   "cell_type": "code",
   "execution_count": 1,
   "id": "85eb3fb5-1b6c-4bae-b8ab-d3525d337dca",
   "metadata": {},
   "outputs": [],
   "source": [
    "import pandas as pd"
   ]
  },
  {
   "cell_type": "code",
   "execution_count": 2,
   "id": "1940d6b8-cc95-4b96-8d76-cd19dfa9ec43",
   "metadata": {},
   "outputs": [
    {
     "name": "stdout",
     "output_type": "stream",
     "text": [
      "11       rajiv\n",
      "12        riya\n",
      "13      yuvraj\n",
      "14     falguni\n",
      "15      ujwala\n",
      "16    abhijeet\n",
      "17      sayali\n",
      "18    abhidnya\n",
      "19    bhagyesh\n",
      "20      ishika\n",
      "dtype: object\n"
     ]
    }
   ],
   "source": [
    "ind = [11,12,13,14,15,16,17,18,19,20]\n",
    "lst = ['rajiv', 'riya', 'yuvraj', 'falguni', 'ujwala', 'abhijeet', 'sayali', 'abhidnya', 'bhagyesh', 'ishika']\n",
    "X = pd.Series(lst, index = ind)\n",
    "print(X)"
   ]
  },
  {
   "cell_type": "code",
   "execution_count": 5,
   "id": "4e1ea9e4-fd9b-4030-a4a7-a5e16dc5a1b9",
   "metadata": {},
   "outputs": [
    {
     "name": "stdout",
     "output_type": "stream",
     "text": [
      "0    <class 'list'>\n",
      "dtype: object\n"
     ]
    }
   ],
   "source": [
    "ser = pd.Series(list)\n",
    "print(ser)"
   ]
  },
  {
   "cell_type": "code",
   "execution_count": 7,
   "id": "88b969cb-481d-4eaf-9f41-c7d8f045645f",
   "metadata": {},
   "outputs": [
    {
     "data": {
      "text/html": [
       "<div>\n",
       "<style scoped>\n",
       "    .dataframe tbody tr th:only-of-type {\n",
       "        vertical-align: middle;\n",
       "    }\n",
       "\n",
       "    .dataframe tbody tr th {\n",
       "        vertical-align: top;\n",
       "    }\n",
       "\n",
       "    .dataframe thead th {\n",
       "        text-align: right;\n",
       "    }\n",
       "</style>\n",
       "<table border=\"1\" class=\"dataframe\">\n",
       "  <thead>\n",
       "    <tr style=\"text-align: right;\">\n",
       "      <th></th>\n",
       "      <th>0</th>\n",
       "    </tr>\n",
       "  </thead>\n",
       "  <tbody>\n",
       "    <tr>\n",
       "      <th>0</th>\n",
       "      <td>&lt;class 'list'&gt;</td>\n",
       "    </tr>\n",
       "  </tbody>\n",
       "</table>\n",
       "</div>"
      ],
      "text/plain": [
       "                0\n",
       "0  <class 'list'>"
      ]
     },
     "execution_count": 7,
     "metadata": {},
     "output_type": "execute_result"
    }
   ],
   "source": [
    "ser.to_frame()"
   ]
  },
  {
   "cell_type": "code",
   "execution_count": 10,
   "id": "bc25ddc2-7e7b-4a1f-9c65-b71ec532ee14",
   "metadata": {},
   "outputs": [
    {
     "name": "stdout",
     "output_type": "stream",
     "text": [
      "11       rajiv\n",
      "12        riya\n",
      "13      yuvraj\n",
      "14     falguni\n",
      "15      ujwala\n",
      "16    abhijeet\n",
      "17      sayali\n",
      "18    abhidnya\n",
      "19    bhagyesh\n",
      "20      ishika\n",
      "dtype: object\n"
     ]
    }
   ],
   "source": [
    "print(X)"
   ]
  },
  {
   "cell_type": "code",
   "execution_count": 14,
   "id": "a7345540-7882-4786-91ae-2539044d1890",
   "metadata": {},
   "outputs": [
    {
     "data": {
      "text/plain": [
       "11      rajiv\n",
       "12       riya\n",
       "13     yuvraj\n",
       "14    falguni\n",
       "15     ujwala\n",
       "dtype: object"
      ]
     },
     "execution_count": 14,
     "metadata": {},
     "output_type": "execute_result"
    }
   ],
   "source": [
    "X.head()"
   ]
  },
  {
   "cell_type": "code",
   "execution_count": 15,
   "id": "7d726d5b-ed17-4c98-9f59-d8ce66b031f1",
   "metadata": {},
   "outputs": [
    {
     "data": {
      "text/plain": [
       "16    abhijeet\n",
       "17      sayali\n",
       "18    abhidnya\n",
       "19    bhagyesh\n",
       "20      ishika\n",
       "dtype: object"
      ]
     },
     "execution_count": 15,
     "metadata": {},
     "output_type": "execute_result"
    }
   ],
   "source": [
    "X.tail()"
   ]
  },
  {
   "cell_type": "code",
   "execution_count": 16,
   "id": "d68d184b-83fe-4af1-85e8-c50df6157d4b",
   "metadata": {},
   "outputs": [
    {
     "data": {
      "text/plain": [
       "11    rajiv\n",
       "12     riya\n",
       "dtype: object"
      ]
     },
     "execution_count": 16,
     "metadata": {},
     "output_type": "execute_result"
    }
   ],
   "source": [
    "X.head(2)"
   ]
  },
  {
   "cell_type": "code",
   "execution_count": 17,
   "id": "713aba22-fd0a-4cd0-866c-6c447b117e9a",
   "metadata": {},
   "outputs": [
    {
     "data": {
      "text/plain": [
       "19    bhagyesh\n",
       "20      ishika\n",
       "dtype: object"
      ]
     },
     "execution_count": 17,
     "metadata": {},
     "output_type": "execute_result"
    }
   ],
   "source": [
    "X.tail(2)"
   ]
  },
  {
   "cell_type": "code",
   "execution_count": 20,
   "id": "7fe15409-57a4-43ee-837d-09f9a8b738fc",
   "metadata": {},
   "outputs": [
    {
     "data": {
      "text/plain": [
       "'ujwala'"
      ]
     },
     "execution_count": 20,
     "metadata": {},
     "output_type": "execute_result"
    }
   ],
   "source": [
    "X.iloc[4]"
   ]
  },
  {
   "cell_type": "code",
   "execution_count": 21,
   "id": "72fec630-9092-4705-ae45-d2d3e6f1ce2d",
   "metadata": {},
   "outputs": [
    {
     "data": {
      "text/plain": [
       "'falguni'"
      ]
     },
     "execution_count": 21,
     "metadata": {},
     "output_type": "execute_result"
    }
   ],
   "source": [
    "X.iloc[3]"
   ]
  },
  {
   "cell_type": "code",
   "execution_count": 33,
   "id": "3096937b-d137-4407-98ce-070b759d45b2",
   "metadata": {},
   "outputs": [],
   "source": [
    "X.to_csv(\"MyRecord.csv\")"
   ]
  },
  {
   "cell_type": "code",
   "execution_count": null,
   "id": "69083c73-52b5-439a-9517-1b00c4fd44bf",
   "metadata": {},
   "outputs": [],
   "source": []
  }
 ],
 "metadata": {
  "kernelspec": {
   "display_name": "Python 3 (ipykernel)",
   "language": "python",
   "name": "python3"
  },
  "language_info": {
   "codemirror_mode": {
    "name": "ipython",
    "version": 3
   },
   "file_extension": ".py",
   "mimetype": "text/x-python",
   "name": "python",
   "nbconvert_exporter": "python",
   "pygments_lexer": "ipython3",
   "version": "3.10.12"
  }
 },
 "nbformat": 4,
 "nbformat_minor": 5
}
