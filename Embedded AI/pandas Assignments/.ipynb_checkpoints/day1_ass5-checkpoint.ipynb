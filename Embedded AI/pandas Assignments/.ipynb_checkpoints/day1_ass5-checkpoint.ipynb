{
 "cells": [
  {
   "cell_type": "markdown",
   "id": "aecf35db-8bea-4fef-a294-3474d172db21",
   "metadata": {},
   "source": [
    "# Day1_ass5"
   ]
  },
  {
   "cell_type": "code",
   "execution_count": 1,
   "id": "2dcb7d62-cf74-49cb-8704-29e0c5c91c4f",
   "metadata": {},
   "outputs": [],
   "source": [
    "import numpy as np"
   ]
  },
  {
   "cell_type": "code",
   "execution_count": 2,
   "id": "babbb46b-648f-4fd5-9bec-78163a9cfb7f",
   "metadata": {},
   "outputs": [],
   "source": [
    "import pandas as pd"
   ]
  },
  {
   "cell_type": "code",
   "execution_count": 3,
   "id": "beb52482-4cfa-4c85-8c7e-ac51ba850130",
   "metadata": {},
   "outputs": [
    {
     "name": "stdout",
     "output_type": "stream",
     "text": [
      "Numpy array:\n",
      "[10 20 30 40 50]\n"
     ]
    }
   ],
   "source": [
    "np_array = np.array([10,20,30,40,50])\n",
    "print(\"Numpy array:\")\n",
    "print(np_array)"
   ]
  },
  {
   "cell_type": "code",
   "execution_count": 4,
   "id": "9baf8e66-5c13-4967-ac8a-b2c59e90a188",
   "metadata": {},
   "outputs": [
    {
     "name": "stdout",
     "output_type": "stream",
     "text": [
      "Converted Pandas series:\n",
      "0    10\n",
      "1    20\n",
      "2    30\n",
      "3    40\n",
      "4    50\n",
      "dtype: int64\n"
     ]
    }
   ],
   "source": [
    "new_series = pd.Series(np_array)\n",
    "print(\"Converted Pandas series:\")\n",
    "print(new_series)"
   ]
  },
  {
   "cell_type": "code",
   "execution_count": null,
   "id": "61ff59b2-efac-460c-aec8-e434af0ea952",
   "metadata": {},
   "outputs": [],
   "source": []
  }
 ],
 "metadata": {
  "kernelspec": {
   "display_name": "Python 3 (ipykernel)",
   "language": "python",
   "name": "python3"
  },
  "language_info": {
   "codemirror_mode": {
    "name": "ipython",
    "version": 3
   },
   "file_extension": ".py",
   "mimetype": "text/x-python",
   "name": "python",
   "nbconvert_exporter": "python",
   "pygments_lexer": "ipython3",
   "version": "3.10.12"
  }
 },
 "nbformat": 4,
 "nbformat_minor": 5
}
