{
 "cells": [
  {
   "cell_type": "markdown",
   "id": "189925d0-9afc-4015-98f6-2fd833b90fa6",
   "metadata": {},
   "source": [
    "# Day1_ass10"
   ]
  },
  {
   "cell_type": "code",
   "execution_count": 1,
   "id": "fa3136bc-b6ec-456c-a392-ff94432c374f",
   "metadata": {},
   "outputs": [],
   "source": [
    "import pandas as pd"
   ]
  },
  {
   "cell_type": "code",
   "execution_count": 15,
   "id": "900b0c12-c96f-4e7e-a61b-49c94c451cd3",
   "metadata": {},
   "outputs": [
    {
     "name": "stdout",
     "output_type": "stream",
     "text": [
      "   Unnamed: 0         0  salary\n",
      "0          11     rajiv    3445\n",
      "1          12      riya    5656\n",
      "2          13    yuvraj    4245\n",
      "3          14   falguni    6569\n",
      "4          15    ujwala    4569\n",
      "5          16  abhijeet    2384\n",
      "6          17    sayali    3475\n",
      "7          18  abhidnya    3456\n",
      "8          19  bhagyesh    4576\n",
      "9          20    ishika    5678\n"
     ]
    }
   ],
   "source": [
    "df = pd.read_csv('MyRecord.csv')\n",
    "salary = [3445,5656,4245,6569,4569,2384,3475,3456,4576,5678]\n",
    "df['salary']= salary\n",
    "print(df)"
   ]
  },
  {
   "cell_type": "code",
   "execution_count": null,
   "id": "480f55fb-ef62-46d9-93f4-298fccaa10fb",
   "metadata": {},
   "outputs": [],
   "source": []
  }
 ],
 "metadata": {
  "kernelspec": {
   "display_name": "Python 3 (ipykernel)",
   "language": "python",
   "name": "python3"
  },
  "language_info": {
   "codemirror_mode": {
    "name": "ipython",
    "version": 3
   },
   "file_extension": ".py",
   "mimetype": "text/x-python",
   "name": "python",
   "nbconvert_exporter": "python",
   "pygments_lexer": "ipython3",
   "version": "3.10.12"
  }
 },
 "nbformat": 4,
 "nbformat_minor": 5
}
