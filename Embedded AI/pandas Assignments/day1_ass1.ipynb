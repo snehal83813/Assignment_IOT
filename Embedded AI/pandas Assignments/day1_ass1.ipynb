{
 "cells": [
  {
   "cell_type": "markdown",
   "id": "2978d31c-c78a-44e0-b334-4d57f894bd59",
   "metadata": {},
   "source": [
    "# Day 1_ass1"
   ]
  },
  {
   "cell_type": "code",
   "execution_count": 1,
   "id": "e4951b37-d4cf-4929-80d4-c3c2c480ecf5",
   "metadata": {},
   "outputs": [],
   "source": [
    "import pandas as pd"
   ]
  },
  {
   "cell_type": "code",
   "execution_count": 2,
   "id": "31c8bb1c-fa92-4952-b026-566ef2e94543",
   "metadata": {},
   "outputs": [
    {
     "name": "stdout",
     "output_type": "stream",
     "text": [
      "0     2\n",
      "1     4\n",
      "2     6\n",
      "3     8\n",
      "4    10\n",
      "dtype: int64\n"
     ]
    }
   ],
   "source": [
    "ds = pd.Series([2,4,6,8,10])\n",
    "print(ds)"
   ]
  },
  {
   "cell_type": "code",
   "execution_count": null,
   "id": "81e88260-fc1e-4d67-bb36-d16b67c71dee",
   "metadata": {},
   "outputs": [],
   "source": []
  }
 ],
 "metadata": {
  "kernelspec": {
   "display_name": "Python 3 (ipykernel)",
   "language": "python",
   "name": "python3"
  },
  "language_info": {
   "codemirror_mode": {
    "name": "ipython",
    "version": 3
   },
   "file_extension": ".py",
   "mimetype": "text/x-python",
   "name": "python",
   "nbconvert_exporter": "python",
   "pygments_lexer": "ipython3",
   "version": "3.10.12"
  }
 },
 "nbformat": 4,
 "nbformat_minor": 5
}
