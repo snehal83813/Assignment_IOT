{
 "cells": [
  {
   "cell_type": "markdown",
   "id": "4edab0d5-6bdb-452b-acee-3b07dc978b8d",
   "metadata": {},
   "source": [
    "# Day1_ass17"
   ]
  },
  {
   "cell_type": "code",
   "execution_count": 1,
   "id": "93c27cf3-219e-40c7-b308-4fc55f291bf5",
   "metadata": {},
   "outputs": [],
   "source": [
    "import numpy as np"
   ]
  },
  {
   "cell_type": "code",
   "execution_count": 2,
   "id": "0b25d394-0210-47e5-bcee-3e8f7a6354f0",
   "metadata": {},
   "outputs": [
    {
     "name": "stdout",
     "output_type": "stream",
     "text": [
      "[[[0.65653823 0.30727445 0.6344571  0.01479816]\n",
      "  [0.88684602 0.82190477 0.684822   0.52622694]\n",
      "  [0.92868738 0.71366792 0.99084544 0.85088321]]\n",
      "\n",
      " [[0.87033963 0.33428016 0.76445275 0.36784043]\n",
      "  [0.51252969 0.3454227  0.40932462 0.49120634]\n",
      "  [0.56257734 0.18565675 0.19240122 0.99842894]]]\n"
     ]
    }
   ],
   "source": [
    "X = np.random.random((2,3,4))\n",
    "print(X)"
   ]
  },
  {
   "cell_type": "code",
   "execution_count": null,
   "id": "d985bf46-381b-4f23-b050-01a4089aa732",
   "metadata": {},
   "outputs": [],
   "source": []
  }
 ],
 "metadata": {
  "kernelspec": {
   "display_name": "Python 3 (ipykernel)",
   "language": "python",
   "name": "python3"
  },
  "language_info": {
   "codemirror_mode": {
    "name": "ipython",
    "version": 3
   },
   "file_extension": ".py",
   "mimetype": "text/x-python",
   "name": "python",
   "nbconvert_exporter": "python",
   "pygments_lexer": "ipython3",
   "version": "3.10.12"
  }
 },
 "nbformat": 4,
 "nbformat_minor": 5
}
