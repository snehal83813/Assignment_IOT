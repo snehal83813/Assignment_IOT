{
 "cells": [
  {
   "cell_type": "markdown",
   "id": "ba81f07f-172d-47fe-804d-471490f18b71",
   "metadata": {},
   "source": [
    "# Day1_ass1"
   ]
  },
  {
   "cell_type": "code",
   "execution_count": 2,
   "id": "b1003acd-7d05-4b80-bc58-10448aec5c9c",
   "metadata": {},
   "outputs": [],
   "source": [
    "import numpy as np"
   ]
  },
  {
   "cell_type": "code",
   "execution_count": 4,
   "id": "df003370-4a62-4b53-8a3d-75d7cc4e3078",
   "metadata": {},
   "outputs": [
    {
     "name": "stdout",
     "output_type": "stream",
     "text": [
      "Original array:\n",
      "[  1   7  13 105]\n"
     ]
    }
   ],
   "source": [
    "X = np.array([1,7,13,105])\n",
    "print(\"Original array:\")\n",
    "print(X)"
   ]
  },
  {
   "cell_type": "code",
   "execution_count": 6,
   "id": "02deccb2-4aff-4831-9c65-4aab394ffe22",
   "metadata": {},
   "outputs": [
    {
     "name": "stdout",
     "output_type": "stream",
     "text": [
      "Size of memory occupied by the array:\n",
      "32 bytes\n"
     ]
    }
   ],
   "source": [
    "print(\"Size of memory occupied by the array:\")\n",
    "print(\"%d bytes\" %(X.size * X.itemsize))"
   ]
  },
  {
   "cell_type": "code",
   "execution_count": null,
   "id": "273dfbed-3a33-4e2c-a1d0-097bfa133cdf",
   "metadata": {},
   "outputs": [],
   "source": []
  }
 ],
 "metadata": {
  "kernelspec": {
   "display_name": "Python 3 (ipykernel)",
   "language": "python",
   "name": "python3"
  },
  "language_info": {
   "codemirror_mode": {
    "name": "ipython",
    "version": 3
   },
   "file_extension": ".py",
   "mimetype": "text/x-python",
   "name": "python",
   "nbconvert_exporter": "python",
   "pygments_lexer": "ipython3",
   "version": "3.10.12"
  }
 },
 "nbformat": 4,
 "nbformat_minor": 5
}
