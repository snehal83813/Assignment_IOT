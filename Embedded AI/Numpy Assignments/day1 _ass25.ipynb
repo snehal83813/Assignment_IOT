{
 "cells": [
  {
   "cell_type": "markdown",
   "id": "56b98fa6-cb67-46a1-834e-526ad8633903",
   "metadata": {},
   "source": [
    "# Day1_ass25"
   ]
  },
  {
   "cell_type": "code",
   "execution_count": 1,
   "id": "657adc73-9e6a-4407-8409-981d9456d969",
   "metadata": {},
   "outputs": [],
   "source": [
    "import numpy as np"
   ]
  },
  {
   "cell_type": "code",
   "execution_count": 2,
   "id": "b661e085-0396-4a31-a442-285f911e2509",
   "metadata": {},
   "outputs": [
    {
     "name": "stdout",
     "output_type": "stream",
     "text": [
      "Original array:\n",
      "[0 1 2 3 4 5 6 7 8 9]\n"
     ]
    }
   ],
   "source": [
    "X = np.arange(10)\n",
    "print(\"Original array:\")\n",
    "print(X)"
   ]
  },
  {
   "cell_type": "code",
   "execution_count": 4,
   "id": "e48d1d1f-a3c3-4163-9534-45b8b3623d85",
   "metadata": {},
   "outputs": [
    {
     "name": "stdout",
     "output_type": "stream",
     "text": [
      "Arrays which are divisible by 3 are:\n",
      "[0.         0.33333333 0.66666667 1.         1.33333333 1.66666667\n",
      " 2.         2.33333333 2.66666667 3.        ]\n"
     ]
    }
   ],
   "source": [
    "print(\"Arrays which are divisible by 3 are:\")\n",
    "print(np.true_divide(X,3))"
   ]
  },
  {
   "cell_type": "code",
   "execution_count": null,
   "id": "e51e76fd-ff7e-4e09-8e3c-9b8ca9829398",
   "metadata": {},
   "outputs": [],
   "source": []
  }
 ],
 "metadata": {
  "kernelspec": {
   "display_name": "Python 3 (ipykernel)",
   "language": "python",
   "name": "python3"
  },
  "language_info": {
   "codemirror_mode": {
    "name": "ipython",
    "version": 3
   },
   "file_extension": ".py",
   "mimetype": "text/x-python",
   "name": "python",
   "nbconvert_exporter": "python",
   "pygments_lexer": "ipython3",
   "version": "3.10.12"
  }
 },
 "nbformat": 4,
 "nbformat_minor": 5
}
