{
 "cells": [
  {
   "cell_type": "markdown",
   "id": "f25e9736-d096-4eab-a08f-2181c2f8e894",
   "metadata": {},
   "source": [
    "# Day1_ass8"
   ]
  },
  {
   "cell_type": "code",
   "execution_count": 1,
   "id": "cbd2a984-2be4-45f3-a13e-a08318fcca2f",
   "metadata": {},
   "outputs": [],
   "source": [
    "import numpy as np"
   ]
  },
  {
   "cell_type": "code",
   "execution_count": 3,
   "id": "ea9207e0-6347-4cd0-9481-bc07d223c732",
   "metadata": {},
   "outputs": [
    {
     "name": "stdout",
     "output_type": "stream",
     "text": [
      "[24 12 19 23 39 30 32 37 32 38 12 20 38 28 27]\n"
     ]
    }
   ],
   "source": [
    "X = np.random.randint(low=10, high=40, size=15)\n",
    "print(X)"
   ]
  },
  {
   "cell_type": "code",
   "execution_count": null,
   "id": "3cb4434d-d753-4652-898b-b89303b344c3",
   "metadata": {},
   "outputs": [],
   "source": []
  }
 ],
 "metadata": {
  "kernelspec": {
   "display_name": "Python 3 (ipykernel)",
   "language": "python",
   "name": "python3"
  },
  "language_info": {
   "codemirror_mode": {
    "name": "ipython",
    "version": 3
   },
   "file_extension": ".py",
   "mimetype": "text/x-python",
   "name": "python",
   "nbconvert_exporter": "python",
   "pygments_lexer": "ipython3",
   "version": "3.10.12"
  }
 },
 "nbformat": 4,
 "nbformat_minor": 5
}
