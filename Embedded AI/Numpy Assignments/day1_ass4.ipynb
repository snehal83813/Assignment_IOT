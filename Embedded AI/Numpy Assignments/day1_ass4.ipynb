{
 "cells": [
  {
   "cell_type": "markdown",
   "id": "ef5d4863-5915-45c5-9dc1-c3f074c6e8ff",
   "metadata": {},
   "source": [
    "# Day1_ass4"
   ]
  },
  {
   "cell_type": "code",
   "execution_count": 1,
   "id": "d9908f50-5b95-4ed3-8f78-a7b1d8f60053",
   "metadata": {},
   "outputs": [],
   "source": [
    "import numpy as np"
   ]
  },
  {
   "cell_type": "code",
   "execution_count": 3,
   "id": "afed4947-7e04-46df-8aa8-cf8cd5f43470",
   "metadata": {},
   "outputs": [
    {
     "name": "stdout",
     "output_type": "stream",
     "text": [
      "Array of the integers from 30 to 70:\n",
      "[30 31 32 33 34 35 36 37 38 39 40 41 42 43 44 45 46 47 48 49 50 51 52 53\n",
      " 54 55 56 57 58 59 60 61 62 63 64 65 66 67 68 69]\n"
     ]
    }
   ],
   "source": [
    "array = np.arange(30,70)\n",
    "print(\"Array of the integers from 30 to 70:\")\n",
    "print(array)"
   ]
  },
  {
   "cell_type": "code",
   "execution_count": null,
   "id": "b1bb0753-8200-46d7-8ef5-d14f7b52d624",
   "metadata": {},
   "outputs": [],
   "source": []
  }
 ],
 "metadata": {
  "kernelspec": {
   "display_name": "Python 3 (ipykernel)",
   "language": "python",
   "name": "python3"
  },
  "language_info": {
   "codemirror_mode": {
    "name": "ipython",
    "version": 3
   },
   "file_extension": ".py",
   "mimetype": "text/x-python",
   "name": "python",
   "nbconvert_exporter": "python",
   "pygments_lexer": "ipython3",
   "version": "3.10.12"
  }
 },
 "nbformat": 4,
 "nbformat_minor": 5
}
