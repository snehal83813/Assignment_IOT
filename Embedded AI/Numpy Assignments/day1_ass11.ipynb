{
 "cells": [
  {
   "cell_type": "markdown",
   "id": "16850b2a-78d7-4dc8-a7b7-82d9c43979d7",
   "metadata": {},
   "source": [
    "# Day1_ass11"
   ]
  },
  {
   "cell_type": "code",
   "execution_count": 1,
   "id": "1ea6d64e-0770-48b4-a99f-e4cd4fc0a0a8",
   "metadata": {},
   "outputs": [],
   "source": [
    "import numpy as np"
   ]
  },
  {
   "cell_type": "code",
   "execution_count": 2,
   "id": "1200785b-71c6-4753-aa68-8814c99e1340",
   "metadata": {},
   "outputs": [
    {
     "name": "stdout",
     "output_type": "stream",
     "text": [
      "Add:\n",
      "6\n"
     ]
    }
   ],
   "source": [
    "print(\"Add:\")\n",
    "print(np.add(2,4))"
   ]
  },
  {
   "cell_type": "code",
   "execution_count": 4,
   "id": "2669916a-a36a-475d-9759-b0200afe32dc",
   "metadata": {},
   "outputs": [
    {
     "name": "stdout",
     "output_type": "stream",
     "text": [
      "Substract:\n",
      "-2\n"
     ]
    }
   ],
   "source": [
    "print(\"Substract:\")\n",
    "print(np.subtract(5,7))"
   ]
  },
  {
   "cell_type": "code",
   "execution_count": 5,
   "id": "026d392f-ab71-4d14-986e-befa4d1388af",
   "metadata": {},
   "outputs": [
    {
     "name": "stdout",
     "output_type": "stream",
     "text": [
      "Multiply:\n",
      "45\n"
     ]
    }
   ],
   "source": [
    "print(\"Multiply:\")\n",
    "print(np.multiply(5,9))"
   ]
  },
  {
   "cell_type": "code",
   "execution_count": 7,
   "id": "c05a2466-2a5d-4892-b891-aed741a381f8",
   "metadata": {},
   "outputs": [
    {
     "name": "stdout",
     "output_type": "stream",
     "text": [
      "Divide:\n",
      "3.0\n"
     ]
    }
   ],
   "source": [
    "print(\"Divide:\")\n",
    "print(np.divide(9,3))"
   ]
  },
  {
   "cell_type": "code",
   "execution_count": null,
   "id": "8a28cb5a-9b3e-4fa0-84c4-828285b46ddb",
   "metadata": {},
   "outputs": [],
   "source": []
  }
 ],
 "metadata": {
  "kernelspec": {
   "display_name": "Python 3 (ipykernel)",
   "language": "python",
   "name": "python3"
  },
  "language_info": {
   "codemirror_mode": {
    "name": "ipython",
    "version": 3
   },
   "file_extension": ".py",
   "mimetype": "text/x-python",
   "name": "python",
   "nbconvert_exporter": "python",
   "pygments_lexer": "ipython3",
   "version": "3.10.12"
  }
 },
 "nbformat": 4,
 "nbformat_minor": 5
}
