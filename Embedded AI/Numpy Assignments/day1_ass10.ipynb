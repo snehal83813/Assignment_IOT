{
 "cells": [
  {
   "cell_type": "markdown",
   "id": "6432e386-aaed-4258-ad7c-6269f83549cc",
   "metadata": {},
   "source": [
    "# Day1_ass10"
   ]
  },
  {
   "cell_type": "code",
   "execution_count": 1,
   "id": "62a99106-8850-4b37-a750-9ae91edd2519",
   "metadata": {},
   "outputs": [],
   "source": [
    "import numpy as np"
   ]
  },
  {
   "cell_type": "code",
   "execution_count": 2,
   "id": "db4818cf-7c60-4e94-9515-4d22d04e4836",
   "metadata": {},
   "outputs": [
    {
     "name": "stdout",
     "output_type": "stream",
     "text": [
      "[56 61 59 82 89 68 67 67 64 79 61 72 82 80 78 80 78 72 79 70]\n"
     ]
    }
   ],
   "source": [
    "X = np.random.randint(low=50, high=90, size=20)\n",
    "print(X)"
   ]
  }
 ],
 "metadata": {
  "kernelspec": {
   "display_name": "Python 3 (ipykernel)",
   "language": "python",
   "name": "python3"
  },
  "language_info": {
   "codemirror_mode": {
    "name": "ipython",
    "version": 3
   },
   "file_extension": ".py",
   "mimetype": "text/x-python",
   "name": "python",
   "nbconvert_exporter": "python",
   "pygments_lexer": "ipython3",
   "version": "3.10.12"
  }
 },
 "nbformat": 4,
 "nbformat_minor": 5
}
