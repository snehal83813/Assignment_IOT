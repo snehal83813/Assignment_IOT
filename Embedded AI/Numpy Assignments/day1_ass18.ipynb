{
 "cells": [
  {
   "cell_type": "markdown",
   "id": "a7b7f155-a5de-4ad6-9911-86f006cc7781",
   "metadata": {},
   "source": [
    "# Day1_ass18"
   ]
  },
  {
   "cell_type": "code",
   "execution_count": 1,
   "id": "441056e1-464d-465a-95d0-f41b20514acb",
   "metadata": {},
   "outputs": [],
   "source": [
    "import numpy as np"
   ]
  },
  {
   "cell_type": "code",
   "execution_count": 2,
   "id": "92fe6216-06e7-4813-b067-6d39cf1336ff",
   "metadata": {},
   "outputs": [
    {
     "name": "stdout",
     "output_type": "stream",
     "text": [
      "Original lists: [12, 13, 14, 15, 16]\n",
      "One dimensional numpy array: [12 13 14 15 16]\n"
     ]
    }
   ],
   "source": [
    "l = [12,13,14,15,16]\n",
    "print(\"Original lists:\",l)\n",
    "a = np.array(l)\n",
    "print(\"One dimensional numpy array:\",a)"
   ]
  },
  {
   "cell_type": "code",
   "execution_count": null,
   "id": "b8fd894a-be4d-4c32-8e94-991410d7b858",
   "metadata": {},
   "outputs": [],
   "source": []
  }
 ],
 "metadata": {
  "kernelspec": {
   "display_name": "Python 3 (ipykernel)",
   "language": "python",
   "name": "python3"
  },
  "language_info": {
   "codemirror_mode": {
    "name": "ipython",
    "version": 3
   },
   "file_extension": ".py",
   "mimetype": "text/x-python",
   "name": "python",
   "nbconvert_exporter": "python",
   "pygments_lexer": "ipython3",
   "version": "3.10.12"
  }
 },
 "nbformat": 4,
 "nbformat_minor": 5
}
