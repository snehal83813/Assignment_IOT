{
 "cells": [
  {
   "cell_type": "markdown",
   "id": "ea62d567-a4db-438d-b7c8-e48c20b5ba7e",
   "metadata": {},
   "source": [
    "# Day1_ass24"
   ]
  },
  {
   "cell_type": "code",
   "execution_count": 1,
   "id": "f41ef340-c518-4e22-87df-f7138923de18",
   "metadata": {},
   "outputs": [],
   "source": [
    "import numpy as np"
   ]
  },
  {
   "cell_type": "code",
   "execution_count": 2,
   "id": "9cea0f8e-b5b4-47c3-9b5e-121691596a67",
   "metadata": {},
   "outputs": [
    {
     "name": "stdout",
     "output_type": "stream",
     "text": [
      "Original array:\n",
      "[0 1 2 3 4 5 6]\n"
     ]
    }
   ],
   "source": [
    "X = np.arange(7)\n",
    "print(\"Original array:\")\n",
    "print(X)"
   ]
  },
  {
   "cell_type": "code",
   "execution_count": 3,
   "id": "2b7110ab-79d8-46b8-9a1c-d51d8d5052c3",
   "metadata": {},
   "outputs": [
    {
     "name": "stdout",
     "output_type": "stream",
     "text": [
      "Element-wise remainder of division:\n",
      "[0 1 2 3 4 0 1]\n"
     ]
    }
   ],
   "source": [
    "print(\"Element-wise remainder of division:\")\n",
    "print(np.remainder(X,5))"
   ]
  },
  {
   "cell_type": "code",
   "execution_count": null,
   "id": "ab2c8ea8-7b58-4d11-bde8-e34200c2455d",
   "metadata": {},
   "outputs": [],
   "source": []
  }
 ],
 "metadata": {
  "kernelspec": {
   "display_name": "Python 3 (ipykernel)",
   "language": "python",
   "name": "python3"
  },
  "language_info": {
   "codemirror_mode": {
    "name": "ipython",
    "version": 3
   },
   "file_extension": ".py",
   "mimetype": "text/x-python",
   "name": "python",
   "nbconvert_exporter": "python",
   "pygments_lexer": "ipython3",
   "version": "3.10.12"
  }
 },
 "nbformat": 4,
 "nbformat_minor": 5
}
