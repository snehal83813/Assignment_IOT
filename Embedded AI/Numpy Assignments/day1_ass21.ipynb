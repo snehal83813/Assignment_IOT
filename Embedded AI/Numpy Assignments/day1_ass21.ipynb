{
 "cells": [
  {
   "cell_type": "markdown",
   "id": "f0219940-8e9d-4588-9eae-c7f190d1442f",
   "metadata": {},
   "source": [
    "# Day1_ass21"
   ]
  },
  {
   "cell_type": "code",
   "execution_count": 1,
   "id": "72257ba9-ea60-436f-bafa-e699169a026f",
   "metadata": {},
   "outputs": [],
   "source": [
    "import numpy as np"
   ]
  },
  {
   "cell_type": "code",
   "execution_count": 2,
   "id": "1003c6da-92f7-44ff-bdd6-74f4301904cf",
   "metadata": {},
   "outputs": [
    {
     "name": "stdout",
     "output_type": "stream",
     "text": [
      "Original array:\n",
      "[13 14 15 16 17 18 19 20 21 22 23 24 25 26 27 28 29 30 31 32 33 34 35 36\n",
      " 37 38 39 40 41 42 43 44]\n"
     ]
    }
   ],
   "source": [
    "X = np.arange(13,45)\n",
    "print(\"Original array:\")\n",
    "print(X)"
   ]
  },
  {
   "cell_type": "code",
   "execution_count": 8,
   "id": "a3700029-0b9e-46a7-acec-fb25ad64f8a4",
   "metadata": {},
   "outputs": [
    {
     "name": "stdout",
     "output_type": "stream",
     "text": [
      "Reverse array:\n",
      "-1\n"
     ]
    }
   ],
   "source": [
    "print(\"Reverse array:\")\n",
    "X = X[-1]\n",
    "print(X)"
   ]
  },
  {
   "cell_type": "code",
   "execution_count": null,
   "id": "d9120442-e217-445e-b575-3746f20491db",
   "metadata": {},
   "outputs": [],
   "source": []
  }
 ],
 "metadata": {
  "kernelspec": {
   "display_name": "Python 3 (ipykernel)",
   "language": "python",
   "name": "python3"
  },
  "language_info": {
   "codemirror_mode": {
    "name": "ipython",
    "version": 3
   },
   "file_extension": ".py",
   "mimetype": "text/x-python",
   "name": "python",
   "nbconvert_exporter": "python",
   "pygments_lexer": "ipython3",
   "version": "3.10.12"
  }
 },
 "nbformat": 4,
 "nbformat_minor": 5
}
