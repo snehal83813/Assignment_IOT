{
 "cells": [
  {
   "cell_type": "markdown",
   "id": "8a422f0f-4c4f-4d47-9288-18fb7a185bff",
   "metadata": {},
   "source": [
    "# Day1_ass9"
   ]
  },
  {
   "cell_type": "code",
   "execution_count": 1,
   "id": "24183ccf-22e3-4cc0-9dcb-290efa9639d2",
   "metadata": {},
   "outputs": [],
   "source": [
    "import numpy as np"
   ]
  },
  {
   "cell_type": "code",
   "execution_count": 2,
   "id": "a0c951e2-7185-4dd2-ac46-7f3164c88d92",
   "metadata": {},
   "outputs": [
    {
     "name": "stdout",
     "output_type": "stream",
     "text": [
      "[31 30 44 49 42 42 41 45 41 36]\n"
     ]
    }
   ],
   "source": [
    "X = np.random.randint(low=30, high=50 ,size=10 )\n",
    "print(X)"
   ]
  },
  {
   "cell_type": "code",
   "execution_count": null,
   "id": "ee86c857-731c-4bf9-ab16-cc3673c4eff4",
   "metadata": {},
   "outputs": [],
   "source": []
  }
 ],
 "metadata": {
  "kernelspec": {
   "display_name": "Python 3 (ipykernel)",
   "language": "python",
   "name": "python3"
  },
  "language_info": {
   "codemirror_mode": {
    "name": "ipython",
    "version": 3
   },
   "file_extension": ".py",
   "mimetype": "text/x-python",
   "name": "python",
   "nbconvert_exporter": "python",
   "pygments_lexer": "ipython3",
   "version": "3.10.12"
  }
 },
 "nbformat": 4,
 "nbformat_minor": 5
}
