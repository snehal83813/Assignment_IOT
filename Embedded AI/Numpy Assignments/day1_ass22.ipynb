{
 "cells": [
  {
   "cell_type": "markdown",
   "id": "f6ab22e6-e9dc-4618-9435-c28db8d212cc",
   "metadata": {},
   "source": [
    "# Day1_ass22"
   ]
  },
  {
   "cell_type": "code",
   "execution_count": 1,
   "id": "e7ce60fa-264c-4fcd-8ebe-bf5d0f977e66",
   "metadata": {},
   "outputs": [],
   "source": [
    "import numpy as np"
   ]
  },
  {
   "cell_type": "code",
   "execution_count": 2,
   "id": "f326c076-7df0-4bb7-90f2-94dae7e1805c",
   "metadata": {},
   "outputs": [
    {
     "name": "stdout",
     "output_type": "stream",
     "text": [
      "Original array:\n",
      "[22, 33, 44, 55]\n"
     ]
    }
   ],
   "source": [
    "a = [22,33,44,55]\n",
    "print(\"Original array:\")\n",
    "print(a)"
   ]
  },
  {
   "cell_type": "code",
   "execution_count": 3,
   "id": "3a837e05-c2ee-491c-a94c-771ade31dc0c",
   "metadata": {},
   "outputs": [
    {
     "name": "stdout",
     "output_type": "stream",
     "text": [
      "Array converted to a float type:\n",
      "[22. 33. 44. 55.]\n"
     ]
    }
   ],
   "source": [
    "X = np.asfarray(a)\n",
    "print(\"Array converted to a float type:\")\n",
    "print(X)"
   ]
  },
  {
   "cell_type": "code",
   "execution_count": null,
   "id": "22315334-4b38-4349-87ea-dd05c439274f",
   "metadata": {},
   "outputs": [],
   "source": []
  }
 ],
 "metadata": {
  "kernelspec": {
   "display_name": "Python 3 (ipykernel)",
   "language": "python",
   "name": "python3"
  },
  "language_info": {
   "codemirror_mode": {
    "name": "ipython",
    "version": 3
   },
   "file_extension": ".py",
   "mimetype": "text/x-python",
   "name": "python",
   "nbconvert_exporter": "python",
   "pygments_lexer": "ipython3",
   "version": "3.10.12"
  }
 },
 "nbformat": 4,
 "nbformat_minor": 5
}
