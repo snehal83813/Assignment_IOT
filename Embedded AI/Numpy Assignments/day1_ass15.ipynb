{
 "cells": [
  {
   "cell_type": "markdown",
   "id": "cecfb39d-af8a-4459-80d3-92d18ca0b649",
   "metadata": {},
   "source": [
    "# Day1_ass15"
   ]
  },
  {
   "cell_type": "code",
   "execution_count": 1,
   "id": "dcac447c-f584-45b2-a134-7d64a1708d45",
   "metadata": {},
   "outputs": [],
   "source": [
    "import numpy as np"
   ]
  },
  {
   "cell_type": "code",
   "execution_count": 2,
   "id": "2a2c054b-b694-4019-89bf-9a4ccc29eb84",
   "metadata": {},
   "outputs": [
    {
     "name": "stdout",
     "output_type": "stream",
     "text": [
      "[[1 0 0 0 0]\n",
      " [0 2 0 0 0]\n",
      " [0 0 3 0 0]\n",
      " [0 0 0 4 0]\n",
      " [0 0 0 0 5]]\n"
     ]
    }
   ],
   "source": [
    "X =np.diag([1,2,3,4,5])\n",
    "print(X)"
   ]
  },
  {
   "cell_type": "code",
   "execution_count": null,
   "id": "2a1d8d5c-8b0c-43e4-b1ac-050969588290",
   "metadata": {},
   "outputs": [],
   "source": []
  }
 ],
 "metadata": {
  "kernelspec": {
   "display_name": "Python 3 (ipykernel)",
   "language": "python",
   "name": "python3"
  },
  "language_info": {
   "codemirror_mode": {
    "name": "ipython",
    "version": 3
   },
   "file_extension": ".py",
   "mimetype": "text/x-python",
   "name": "python",
   "nbconvert_exporter": "python",
   "pygments_lexer": "ipython3",
   "version": "3.10.12"
  }
 },
 "nbformat": 4,
 "nbformat_minor": 5
}
