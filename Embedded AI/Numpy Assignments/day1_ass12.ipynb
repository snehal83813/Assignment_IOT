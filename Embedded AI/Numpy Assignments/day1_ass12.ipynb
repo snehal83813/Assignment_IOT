{
 "cells": [
  {
   "cell_type": "markdown",
   "id": "b1b55581-a515-492c-ad9e-148aa85ef27d",
   "metadata": {},
   "source": [
    "# Day1_ass12"
   ]
  },
  {
   "cell_type": "code",
   "execution_count": 1,
   "id": "0f0dd236-04e9-4cc6-afa1-741b357c2280",
   "metadata": {},
   "outputs": [],
   "source": [
    "import numpy as np"
   ]
  },
  {
   "cell_type": "code",
   "execution_count": 2,
   "id": "558f4ce8-6952-4147-be5a-146263c8750c",
   "metadata": {},
   "outputs": [
    {
     "name": "stdout",
     "output_type": "stream",
     "text": [
      "[[10 11 12 13]\n",
      " [14 15 16 17]\n",
      " [18 19 20 21]]\n"
     ]
    }
   ],
   "source": [
    "m = np.arange(10,22).reshape((3,4))\n",
    "print(m)"
   ]
  },
  {
   "cell_type": "code",
   "execution_count": null,
   "id": "81f530da-3279-43c3-b413-d3b69ca67aac",
   "metadata": {},
   "outputs": [],
   "source": []
  }
 ],
 "metadata": {
  "kernelspec": {
   "display_name": "Python 3 (ipykernel)",
   "language": "python",
   "name": "python3"
  },
  "language_info": {
   "codemirror_mode": {
    "name": "ipython",
    "version": 3
   },
   "file_extension": ".py",
   "mimetype": "text/x-python",
   "name": "python",
   "nbconvert_exporter": "python",
   "pygments_lexer": "ipython3",
   "version": "3.10.12"
  }
 },
 "nbformat": 4,
 "nbformat_minor": 5
}
