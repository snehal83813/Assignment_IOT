{
 "cells": [
  {
   "cell_type": "markdown",
   "id": "0908853e-970d-4f13-b52b-022ab7d414a5",
   "metadata": {},
   "source": [
    "# Day1_ass14"
   ]
  },
  {
   "cell_type": "code",
   "execution_count": 1,
   "id": "9ace6e92-8c11-453e-a414-8b87437bd1c9",
   "metadata": {},
   "outputs": [],
   "source": [
    "import numpy as np"
   ]
  },
  {
   "cell_type": "code",
   "execution_count": 6,
   "id": "f7709e52-117f-46c6-b772-f9043ea97332",
   "metadata": {},
   "outputs": [
    {
     "name": "stdout",
     "output_type": "stream",
     "text": [
      "Rows: 2\n",
      "Columns: 3\n"
     ]
    }
   ],
   "source": [
    "matrix = np.array([[9,9,9], [8,8,8]])\n",
    "dimensions = matrix.shape\n",
    "rows, columns = dimensions\n",
    "print(\"Rows:\", rows)\n",
    "print(\"Columns:\", columns)"
   ]
  },
  {
   "cell_type": "code",
   "execution_count": null,
   "id": "ce21b977-d5db-439f-9b1a-831b74a7d183",
   "metadata": {},
   "outputs": [],
   "source": []
  }
 ],
 "metadata": {
  "kernelspec": {
   "display_name": "Python 3 (ipykernel)",
   "language": "python",
   "name": "python3"
  },
  "language_info": {
   "codemirror_mode": {
    "name": "ipython",
    "version": 3
   },
   "file_extension": ".py",
   "mimetype": "text/x-python",
   "name": "python",
   "nbconvert_exporter": "python",
   "pygments_lexer": "ipython3",
   "version": "3.10.12"
  }
 },
 "nbformat": 4,
 "nbformat_minor": 5
}
