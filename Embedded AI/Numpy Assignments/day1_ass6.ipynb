{
 "cells": [
  {
   "cell_type": "markdown",
   "id": "c08ccd9e-a9b2-4d22-a55a-de1700ef222e",
   "metadata": {},
   "source": [
    "# Day1_ass6"
   ]
  },
  {
   "cell_type": "code",
   "execution_count": 1,
   "id": "f0e02b50-5e0f-4c6f-9980-232c3575753a",
   "metadata": {},
   "outputs": [],
   "source": [
    "import numpy as np"
   ]
  },
  {
   "cell_type": "code",
   "execution_count": 2,
   "id": "eab2e6eb-1ffb-4aca-82c7-18ed9ba3c789",
   "metadata": {},
   "outputs": [
    {
     "name": "stdout",
     "output_type": "stream",
     "text": [
      "Array of all even integers from 20 to 80:\n",
      "[20 22 24 26 28 30 32 34 36 38 40 42 44 46 48 50 52 54 56 58 60 62 64 66\n",
      " 68 70 72 74 76 78]\n"
     ]
    }
   ],
   "source": [
    "array = np.arange(20,80,2)\n",
    "print(\"Array of all even integers from 20 to 80:\")\n",
    "print(array)"
   ]
  },
  {
   "cell_type": "code",
   "execution_count": null,
   "id": "aad7ddcf-cd60-4e35-a652-7ed4017724e6",
   "metadata": {},
   "outputs": [],
   "source": []
  }
 ],
 "metadata": {
  "kernelspec": {
   "display_name": "Python 3 (ipykernel)",
   "language": "python",
   "name": "python3"
  },
  "language_info": {
   "codemirror_mode": {
    "name": "ipython",
    "version": 3
   },
   "file_extension": ".py",
   "mimetype": "text/x-python",
   "name": "python",
   "nbconvert_exporter": "python",
   "pygments_lexer": "ipython3",
   "version": "3.10.12"
  }
 },
 "nbformat": 4,
 "nbformat_minor": 5
}
