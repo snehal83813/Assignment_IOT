{
 "cells": [
  {
   "cell_type": "markdown",
   "id": "ae08e730-0489-4de0-bb61-b4b289474600",
   "metadata": {},
   "source": [
    "# Day1_ass5"
   ]
  },
  {
   "cell_type": "code",
   "execution_count": 1,
   "id": "754963b1-bdef-4f07-9177-e7b38aec5c9d",
   "metadata": {},
   "outputs": [],
   "source": [
    "import numpy as np"
   ]
  },
  {
   "cell_type": "code",
   "execution_count": 2,
   "id": "b8420290-d03d-4feb-99b1-5d7f78ef2c02",
   "metadata": {},
   "outputs": [
    {
     "name": "stdout",
     "output_type": "stream",
     "text": [
      "Array of the integers from 50 to 95:\n",
      "[50 51 52 53 54 55 56 57 58 59 60 61 62 63 64 65 66 67 68 69 70 71 72 73\n",
      " 74 75 76 77 78 79 80 81 82 83 84 85 86 87 88 89 90 91 92 93 94]\n"
     ]
    }
   ],
   "source": [
    "array = np.arange(50,95)\n",
    "print(\"Array of the integers from 50 to 95:\")\n",
    "print(array)"
   ]
  },
  {
   "cell_type": "code",
   "execution_count": null,
   "id": "b485c11e-ea52-4e7c-80d0-f89ae886a56e",
   "metadata": {},
   "outputs": [],
   "source": []
  }
 ],
 "metadata": {
  "kernelspec": {
   "display_name": "Python 3 (ipykernel)",
   "language": "python",
   "name": "python3"
  },
  "language_info": {
   "codemirror_mode": {
    "name": "ipython",
    "version": 3
   },
   "file_extension": ".py",
   "mimetype": "text/x-python",
   "name": "python",
   "nbconvert_exporter": "python",
   "pygments_lexer": "ipython3",
   "version": "3.10.12"
  }
 },
 "nbformat": 4,
 "nbformat_minor": 5
}
