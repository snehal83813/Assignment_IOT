{
 "cells": [
  {
   "cell_type": "markdown",
   "id": "9c89c2f6-bc2b-4a47-8dc5-1b5a95c9412b",
   "metadata": {},
   "source": [
    "# Day1_ass7"
   ]
  },
  {
   "cell_type": "code",
   "execution_count": 1,
   "id": "1faa34e8-d24f-4dc2-8e94-2f2f8876aeb8",
   "metadata": {},
   "outputs": [],
   "source": [
    "import numpy as np"
   ]
  },
  {
   "cell_type": "code",
   "execution_count": 3,
   "id": "3a04ada2-78c0-47f8-8ba0-3cf7fa8ad16b",
   "metadata": {},
   "outputs": [
    {
     "name": "stdout",
     "output_type": "stream",
     "text": [
      "Array of all odd integers from 20 to 80:\n",
      "[20 21 22 23 24 25 26 27 28 29 30 31 32 33 34 35 36 37 38 39 40 41 42 43\n",
      " 44 45 46 47 48 49 50 51 52 53 54 55 56 57 58 59 60 61 62 63 64 65 66 67\n",
      " 68 69 70 71 72 73 74 75 76 77 78 79]\n"
     ]
    }
   ],
   "source": [
    "array = np.arange(20,80,1)\n",
    "print(\"Array of all odd integers from 20 to 80:\")\n",
    "print(array)"
   ]
  },
  {
   "cell_type": "code",
   "execution_count": null,
   "id": "b9823970-c8e6-4146-ae71-e3d859f44d8e",
   "metadata": {},
   "outputs": [],
   "source": []
  }
 ],
 "metadata": {
  "kernelspec": {
   "display_name": "Python 3 (ipykernel)",
   "language": "python",
   "name": "python3"
  },
  "language_info": {
   "codemirror_mode": {
    "name": "ipython",
    "version": 3
   },
   "file_extension": ".py",
   "mimetype": "text/x-python",
   "name": "python",
   "nbconvert_exporter": "python",
   "pygments_lexer": "ipython3",
   "version": "3.10.12"
  }
 },
 "nbformat": 4,
 "nbformat_minor": 5
}
