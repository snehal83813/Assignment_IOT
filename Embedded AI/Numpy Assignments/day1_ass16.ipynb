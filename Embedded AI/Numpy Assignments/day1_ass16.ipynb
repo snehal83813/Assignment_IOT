{
 "cells": [
  {
   "cell_type": "markdown",
   "id": "4cd6840d-0e5f-4439-ae63-f03766b6cf98",
   "metadata": {},
   "source": [
    "# Day1_ass16"
   ]
  },
  {
   "cell_type": "code",
   "execution_count": 2,
   "id": "4465629a-9b0f-4819-9bb4-39799dd69a66",
   "metadata": {},
   "outputs": [],
   "source": [
    "import numpy as np"
   ]
  },
  {
   "cell_type": "code",
   "execution_count": 3,
   "id": "653ee30a-7104-429b-8dcb-612ad47b1f7b",
   "metadata": {},
   "outputs": [
    {
     "name": "stdout",
     "output_type": "stream",
     "text": [
      "[[[0.59758199 0.99133456 0.16835235]\n",
      "  [0.52754778 0.58084113 0.31748989]\n",
      "  [0.84992667 0.01585192 0.80251197]]\n",
      "\n",
      " [[0.6403205  0.62218701 0.87244311]\n",
      "  [0.99917524 0.10463389 0.86271396]\n",
      "  [0.0442663  0.45208291 0.2088236 ]]\n",
      "\n",
      " [[0.85397581 0.27363646 0.76126749]\n",
      "  [0.12532862 0.79681325 0.52530394]\n",
      "  [0.51543823 0.82963407 0.50410304]]]\n"
     ]
    }
   ],
   "source": [
    "X = np.random.random((3,3,3,))\n",
    "print(X)"
   ]
  },
  {
   "cell_type": "code",
   "execution_count": null,
   "id": "f252abc8-2d8b-44b0-a358-5a0a3e6208e4",
   "metadata": {},
   "outputs": [],
   "source": []
  }
 ],
 "metadata": {
  "kernelspec": {
   "display_name": "Python 3 (ipykernel)",
   "language": "python",
   "name": "python3"
  },
  "language_info": {
   "codemirror_mode": {
    "name": "ipython",
    "version": 3
   },
   "file_extension": ".py",
   "mimetype": "text/x-python",
   "name": "python",
   "nbconvert_exporter": "python",
   "pygments_lexer": "ipython3",
   "version": "3.10.12"
  }
 },
 "nbformat": 4,
 "nbformat_minor": 5
}
